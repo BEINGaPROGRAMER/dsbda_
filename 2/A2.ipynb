{
  "metadata": {
    "language_info": {
      "codemirror_mode": {
        "name": "python",
        "version": 3
      },
      "file_extension": ".py",
      "mimetype": "text/x-python",
      "name": "python",
      "nbconvert_exporter": "python",
      "pygments_lexer": "ipython3",
      "version": "3.8"
    },
    "kernelspec": {
      "name": "python",
      "display_name": "Python (Pyodide)",
      "language": "python"
    }
  },
  "nbformat_minor": 4,
  "nbformat": 4,
  "cells": [
    {
      "cell_type": "code",
      "source": "import pandas as pd\nimport numpy as np",
      "metadata": {
        "trusted": true
      },
      "execution_count": 14,
      "outputs": []
    },
    {
      "cell_type": "code",
      "source": "df=pd.read_csv(\"AcademicPerformance.csv\")",
      "metadata": {
        "trusted": true
      },
      "execution_count": 16,
      "outputs": []
    },
    {
      "cell_type": "code",
      "source": "df.head()",
      "metadata": {
        "trusted": true
      },
      "execution_count": 17,
      "outputs": [
        {
          "execution_count": 17,
          "output_type": "execute_result",
          "data": {
            "text/plain": "   gender race/ethnicity parental level of education         lunch  \\\n0  female        group B           bachelor's degree      standard   \n1  female        group C                some college      standard   \n2  female        group B             master's degree      standard   \n3    male        group A          associate's degree  free/reduced   \n4    male        group C                some college      standard   \n\n  test preparation course  Year_Birth  math score reading score writing score  \\\n0                    none      1970.0        72.0            72            74   \n1               completed      1961.0         NaN            na             A   \n2                    none      1958.0        90.0            95            93   \n3                    none      1967.0         NaN           NaN            44   \n4                    none      1989.0        76.0            78            75   \n\n  Dt_Admission College_Fees  \n0      6/16/14  $84,835.00   \n1      6/15/14  $57,091.00   \n2      5/13/14  $67,267.00   \n3   05-11-2014  $32,474.00   \n4   04-08-2014  $21,474.00   ",
            "text/html": "<div>\n<style scoped>\n    .dataframe tbody tr th:only-of-type {\n        vertical-align: middle;\n    }\n\n    .dataframe tbody tr th {\n        vertical-align: top;\n    }\n\n    .dataframe thead th {\n        text-align: right;\n    }\n</style>\n<table border=\"1\" class=\"dataframe\">\n  <thead>\n    <tr style=\"text-align: right;\">\n      <th></th>\n      <th>gender</th>\n      <th>race/ethnicity</th>\n      <th>parental level of education</th>\n      <th>lunch</th>\n      <th>test preparation course</th>\n      <th>Year_Birth</th>\n      <th>math score</th>\n      <th>reading score</th>\n      <th>writing score</th>\n      <th>Dt_Admission</th>\n      <th>College_Fees</th>\n    </tr>\n  </thead>\n  <tbody>\n    <tr>\n      <th>0</th>\n      <td>female</td>\n      <td>group B</td>\n      <td>bachelor's degree</td>\n      <td>standard</td>\n      <td>none</td>\n      <td>1970.0</td>\n      <td>72.0</td>\n      <td>72</td>\n      <td>74</td>\n      <td>6/16/14</td>\n      <td>$84,835.00</td>\n    </tr>\n    <tr>\n      <th>1</th>\n      <td>female</td>\n      <td>group C</td>\n      <td>some college</td>\n      <td>standard</td>\n      <td>completed</td>\n      <td>1961.0</td>\n      <td>NaN</td>\n      <td>na</td>\n      <td>A</td>\n      <td>6/15/14</td>\n      <td>$57,091.00</td>\n    </tr>\n    <tr>\n      <th>2</th>\n      <td>female</td>\n      <td>group B</td>\n      <td>master's degree</td>\n      <td>standard</td>\n      <td>none</td>\n      <td>1958.0</td>\n      <td>90.0</td>\n      <td>95</td>\n      <td>93</td>\n      <td>5/13/14</td>\n      <td>$67,267.00</td>\n    </tr>\n    <tr>\n      <th>3</th>\n      <td>male</td>\n      <td>group A</td>\n      <td>associate's degree</td>\n      <td>free/reduced</td>\n      <td>none</td>\n      <td>1967.0</td>\n      <td>NaN</td>\n      <td>NaN</td>\n      <td>44</td>\n      <td>05-11-2014</td>\n      <td>$32,474.00</td>\n    </tr>\n    <tr>\n      <th>4</th>\n      <td>male</td>\n      <td>group C</td>\n      <td>some college</td>\n      <td>standard</td>\n      <td>none</td>\n      <td>1989.0</td>\n      <td>76.0</td>\n      <td>78</td>\n      <td>75</td>\n      <td>04-08-2014</td>\n      <td>$21,474.00</td>\n    </tr>\n  </tbody>\n</table>\n</div>"
          },
          "metadata": {}
        }
      ]
    },
    {
      "cell_type": "code",
      "source": "df.isnull().sum()",
      "metadata": {
        "trusted": true
      },
      "execution_count": 19,
      "outputs": [
        {
          "execution_count": 19,
          "output_type": "execute_result",
          "data": {
            "text/plain": "gender                         1240\nrace/ethnicity                 1240\nparental level of education    1240\nlunch                          1240\ntest preparation course        1240\nYear_Birth                     1240\nmath score                     1242\nreading score                  1241\nwriting score                  1240\nDt_Admission                   1240\nCollege_Fees                   1245\ndtype: int64"
          },
          "metadata": {}
        }
      ]
    },
    {
      "cell_type": "code",
      "source": "m_avg=df['math score'].mean()\ndf['math score'].fillna(value=m_avg,inplace=True)",
      "metadata": {
        "trusted": true
      },
      "execution_count": 28,
      "outputs": []
    },
    {
      "cell_type": "code",
      "source": "df",
      "metadata": {
        "trusted": true
      },
      "execution_count": 29,
      "outputs": [
        {
          "execution_count": 29,
          "output_type": "execute_result",
          "data": {
            "text/plain": "      gender race/ethnicity parental level of education         lunch  \\\n0     female        group B           bachelor's degree      standard   \n1     female        group C                some college      standard   \n2     female        group B             master's degree      standard   \n3       male        group A          associate's degree  free/reduced   \n4       male        group C                some college      standard   \n...      ...            ...                         ...           ...   \n2235     NaN            NaN                         NaN           NaN   \n2236     NaN            NaN                         NaN           NaN   \n2237     NaN            NaN                         NaN           NaN   \n2238     NaN            NaN                         NaN           NaN   \n2239     NaN            NaN                         NaN           NaN   \n\n     test preparation course  Year_Birth  math score reading score  \\\n0                       none      1970.0    72.00000            72   \n1                  completed      1961.0    66.10521            na   \n2                       none      1958.0    90.00000            95   \n3                       none      1967.0    66.10521           NaN   \n4                       none      1989.0    76.00000            78   \n...                      ...         ...         ...           ...   \n2235                     NaN         NaN    66.10521           NaN   \n2236                     NaN         NaN    66.10521           NaN   \n2237                     NaN         NaN    66.10521           NaN   \n2238                     NaN         NaN    66.10521           NaN   \n2239                     NaN         NaN    66.10521           NaN   \n\n     writing score Dt_Admission College_Fees  \n0               74      6/16/14  $84,835.00   \n1                A      6/15/14  $57,091.00   \n2               93      5/13/14  $67,267.00   \n3               44   05-11-2014  $32,474.00   \n4               75   04-08-2014  $21,474.00   \n...            ...          ...          ...  \n2235           NaN          NaN          NaN  \n2236           NaN          NaN          NaN  \n2237           NaN          NaN          NaN  \n2238           NaN          NaN          NaN  \n2239           NaN          NaN          NaN  \n\n[2240 rows x 11 columns]",
            "text/html": "<div>\n<style scoped>\n    .dataframe tbody tr th:only-of-type {\n        vertical-align: middle;\n    }\n\n    .dataframe tbody tr th {\n        vertical-align: top;\n    }\n\n    .dataframe thead th {\n        text-align: right;\n    }\n</style>\n<table border=\"1\" class=\"dataframe\">\n  <thead>\n    <tr style=\"text-align: right;\">\n      <th></th>\n      <th>gender</th>\n      <th>race/ethnicity</th>\n      <th>parental level of education</th>\n      <th>lunch</th>\n      <th>test preparation course</th>\n      <th>Year_Birth</th>\n      <th>math score</th>\n      <th>reading score</th>\n      <th>writing score</th>\n      <th>Dt_Admission</th>\n      <th>College_Fees</th>\n    </tr>\n  </thead>\n  <tbody>\n    <tr>\n      <th>0</th>\n      <td>female</td>\n      <td>group B</td>\n      <td>bachelor's degree</td>\n      <td>standard</td>\n      <td>none</td>\n      <td>1970.0</td>\n      <td>72.00000</td>\n      <td>72</td>\n      <td>74</td>\n      <td>6/16/14</td>\n      <td>$84,835.00</td>\n    </tr>\n    <tr>\n      <th>1</th>\n      <td>female</td>\n      <td>group C</td>\n      <td>some college</td>\n      <td>standard</td>\n      <td>completed</td>\n      <td>1961.0</td>\n      <td>66.10521</td>\n      <td>na</td>\n      <td>A</td>\n      <td>6/15/14</td>\n      <td>$57,091.00</td>\n    </tr>\n    <tr>\n      <th>2</th>\n      <td>female</td>\n      <td>group B</td>\n      <td>master's degree</td>\n      <td>standard</td>\n      <td>none</td>\n      <td>1958.0</td>\n      <td>90.00000</td>\n      <td>95</td>\n      <td>93</td>\n      <td>5/13/14</td>\n      <td>$67,267.00</td>\n    </tr>\n    <tr>\n      <th>3</th>\n      <td>male</td>\n      <td>group A</td>\n      <td>associate's degree</td>\n      <td>free/reduced</td>\n      <td>none</td>\n      <td>1967.0</td>\n      <td>66.10521</td>\n      <td>NaN</td>\n      <td>44</td>\n      <td>05-11-2014</td>\n      <td>$32,474.00</td>\n    </tr>\n    <tr>\n      <th>4</th>\n      <td>male</td>\n      <td>group C</td>\n      <td>some college</td>\n      <td>standard</td>\n      <td>none</td>\n      <td>1989.0</td>\n      <td>76.00000</td>\n      <td>78</td>\n      <td>75</td>\n      <td>04-08-2014</td>\n      <td>$21,474.00</td>\n    </tr>\n    <tr>\n      <th>...</th>\n      <td>...</td>\n      <td>...</td>\n      <td>...</td>\n      <td>...</td>\n      <td>...</td>\n      <td>...</td>\n      <td>...</td>\n      <td>...</td>\n      <td>...</td>\n      <td>...</td>\n      <td>...</td>\n    </tr>\n    <tr>\n      <th>2235</th>\n      <td>NaN</td>\n      <td>NaN</td>\n      <td>NaN</td>\n      <td>NaN</td>\n      <td>NaN</td>\n      <td>NaN</td>\n      <td>66.10521</td>\n      <td>NaN</td>\n      <td>NaN</td>\n      <td>NaN</td>\n      <td>NaN</td>\n    </tr>\n    <tr>\n      <th>2236</th>\n      <td>NaN</td>\n      <td>NaN</td>\n      <td>NaN</td>\n      <td>NaN</td>\n      <td>NaN</td>\n      <td>NaN</td>\n      <td>66.10521</td>\n      <td>NaN</td>\n      <td>NaN</td>\n      <td>NaN</td>\n      <td>NaN</td>\n    </tr>\n    <tr>\n      <th>2237</th>\n      <td>NaN</td>\n      <td>NaN</td>\n      <td>NaN</td>\n      <td>NaN</td>\n      <td>NaN</td>\n      <td>NaN</td>\n      <td>66.10521</td>\n      <td>NaN</td>\n      <td>NaN</td>\n      <td>NaN</td>\n      <td>NaN</td>\n    </tr>\n    <tr>\n      <th>2238</th>\n      <td>NaN</td>\n      <td>NaN</td>\n      <td>NaN</td>\n      <td>NaN</td>\n      <td>NaN</td>\n      <td>NaN</td>\n      <td>66.10521</td>\n      <td>NaN</td>\n      <td>NaN</td>\n      <td>NaN</td>\n      <td>NaN</td>\n    </tr>\n    <tr>\n      <th>2239</th>\n      <td>NaN</td>\n      <td>NaN</td>\n      <td>NaN</td>\n      <td>NaN</td>\n      <td>NaN</td>\n      <td>NaN</td>\n      <td>66.10521</td>\n      <td>NaN</td>\n      <td>NaN</td>\n      <td>NaN</td>\n      <td>NaN</td>\n    </tr>\n  </tbody>\n</table>\n<p>2240 rows × 11 columns</p>\n</div>"
          },
          "metadata": {}
        }
      ]
    },
    {
      "cell_type": "code",
      "source": "df.dropna()",
      "metadata": {
        "trusted": true
      },
      "execution_count": 31,
      "outputs": [
        {
          "execution_count": 31,
          "output_type": "execute_result",
          "data": {
            "text/plain": "     gender race/ethnicity parental level of education         lunch  \\\n0    female        group B           bachelor's degree      standard   \n1    female        group C                some college      standard   \n2    female        group B             master's degree      standard   \n4      male        group C                some college      standard   \n5    female        group B          associate's degree      standard   \n..      ...            ...                         ...           ...   \n995  female        group E             master's degree      standard   \n996    male        group C                 high school  free/reduced   \n997  female        group C                 high school  free/reduced   \n998  female        group D                some college      standard   \n999  female        group D                some college  free/reduced   \n\n    test preparation course  Year_Birth  math score reading score  \\\n0                      none      1970.0    72.00000            72   \n1                 completed      1961.0    66.10521            na   \n2                      none      1958.0    90.00000            95   \n4                      none      1989.0    76.00000            78   \n5                      none      1958.0    71.00000            83   \n..                      ...         ...         ...           ...   \n995               completed      1972.0    88.00000            99   \n996                    none      1972.0    62.00000            55   \n997               completed      1972.0    59.00000            71   \n998               completed      1972.0    68.00000            78   \n999                    none      1972.0    77.00000            86   \n\n    writing score Dt_Admission College_Fees  \n0              74      6/16/14  $84,835.00   \n1               A      6/15/14  $57,091.00   \n2              93      5/13/14  $67,267.00   \n4              75   04-08-2014  $21,474.00   \n5              78      3/17/14  $71,691.00   \n..            ...          ...          ...  \n995            95      8/24/12  $57,107.00   \n996            55      8/17/12  $76,467.00   \n997            65      5/27/14   $76,467.01  \n998            77      2/23/14  $51,315.00   \n999            86   01-10-2014  $43,602.00   \n\n[994 rows x 11 columns]",
            "text/html": "<div>\n<style scoped>\n    .dataframe tbody tr th:only-of-type {\n        vertical-align: middle;\n    }\n\n    .dataframe tbody tr th {\n        vertical-align: top;\n    }\n\n    .dataframe thead th {\n        text-align: right;\n    }\n</style>\n<table border=\"1\" class=\"dataframe\">\n  <thead>\n    <tr style=\"text-align: right;\">\n      <th></th>\n      <th>gender</th>\n      <th>race/ethnicity</th>\n      <th>parental level of education</th>\n      <th>lunch</th>\n      <th>test preparation course</th>\n      <th>Year_Birth</th>\n      <th>math score</th>\n      <th>reading score</th>\n      <th>writing score</th>\n      <th>Dt_Admission</th>\n      <th>College_Fees</th>\n    </tr>\n  </thead>\n  <tbody>\n    <tr>\n      <th>0</th>\n      <td>female</td>\n      <td>group B</td>\n      <td>bachelor's degree</td>\n      <td>standard</td>\n      <td>none</td>\n      <td>1970.0</td>\n      <td>72.00000</td>\n      <td>72</td>\n      <td>74</td>\n      <td>6/16/14</td>\n      <td>$84,835.00</td>\n    </tr>\n    <tr>\n      <th>1</th>\n      <td>female</td>\n      <td>group C</td>\n      <td>some college</td>\n      <td>standard</td>\n      <td>completed</td>\n      <td>1961.0</td>\n      <td>66.10521</td>\n      <td>na</td>\n      <td>A</td>\n      <td>6/15/14</td>\n      <td>$57,091.00</td>\n    </tr>\n    <tr>\n      <th>2</th>\n      <td>female</td>\n      <td>group B</td>\n      <td>master's degree</td>\n      <td>standard</td>\n      <td>none</td>\n      <td>1958.0</td>\n      <td>90.00000</td>\n      <td>95</td>\n      <td>93</td>\n      <td>5/13/14</td>\n      <td>$67,267.00</td>\n    </tr>\n    <tr>\n      <th>4</th>\n      <td>male</td>\n      <td>group C</td>\n      <td>some college</td>\n      <td>standard</td>\n      <td>none</td>\n      <td>1989.0</td>\n      <td>76.00000</td>\n      <td>78</td>\n      <td>75</td>\n      <td>04-08-2014</td>\n      <td>$21,474.00</td>\n    </tr>\n    <tr>\n      <th>5</th>\n      <td>female</td>\n      <td>group B</td>\n      <td>associate's degree</td>\n      <td>standard</td>\n      <td>none</td>\n      <td>1958.0</td>\n      <td>71.00000</td>\n      <td>83</td>\n      <td>78</td>\n      <td>3/17/14</td>\n      <td>$71,691.00</td>\n    </tr>\n    <tr>\n      <th>...</th>\n      <td>...</td>\n      <td>...</td>\n      <td>...</td>\n      <td>...</td>\n      <td>...</td>\n      <td>...</td>\n      <td>...</td>\n      <td>...</td>\n      <td>...</td>\n      <td>...</td>\n      <td>...</td>\n    </tr>\n    <tr>\n      <th>995</th>\n      <td>female</td>\n      <td>group E</td>\n      <td>master's degree</td>\n      <td>standard</td>\n      <td>completed</td>\n      <td>1972.0</td>\n      <td>88.00000</td>\n      <td>99</td>\n      <td>95</td>\n      <td>8/24/12</td>\n      <td>$57,107.00</td>\n    </tr>\n    <tr>\n      <th>996</th>\n      <td>male</td>\n      <td>group C</td>\n      <td>high school</td>\n      <td>free/reduced</td>\n      <td>none</td>\n      <td>1972.0</td>\n      <td>62.00000</td>\n      <td>55</td>\n      <td>55</td>\n      <td>8/17/12</td>\n      <td>$76,467.00</td>\n    </tr>\n    <tr>\n      <th>997</th>\n      <td>female</td>\n      <td>group C</td>\n      <td>high school</td>\n      <td>free/reduced</td>\n      <td>completed</td>\n      <td>1972.0</td>\n      <td>59.00000</td>\n      <td>71</td>\n      <td>65</td>\n      <td>5/27/14</td>\n      <td>$76,467.01</td>\n    </tr>\n    <tr>\n      <th>998</th>\n      <td>female</td>\n      <td>group D</td>\n      <td>some college</td>\n      <td>standard</td>\n      <td>completed</td>\n      <td>1972.0</td>\n      <td>68.00000</td>\n      <td>78</td>\n      <td>77</td>\n      <td>2/23/14</td>\n      <td>$51,315.00</td>\n    </tr>\n    <tr>\n      <th>999</th>\n      <td>female</td>\n      <td>group D</td>\n      <td>some college</td>\n      <td>free/reduced</td>\n      <td>none</td>\n      <td>1972.0</td>\n      <td>77.00000</td>\n      <td>86</td>\n      <td>86</td>\n      <td>01-10-2014</td>\n      <td>$43,602.00</td>\n    </tr>\n  </tbody>\n</table>\n<p>994 rows × 11 columns</p>\n</div>"
          },
          "metadata": {}
        }
      ]
    },
    {
      "cell_type": "code",
      "source": "import matplotlib.pyplot as plt\ndf.boxplot(['math score'])",
      "metadata": {
        "trusted": true
      },
      "execution_count": 38,
      "outputs": [
        {
          "execution_count": 38,
          "output_type": "execute_result",
          "data": {
            "text/plain": "<AxesSubplot:>"
          },
          "metadata": {}
        },
        {
          "output_type": "display_data",
          "data": {
            "text/plain": "<Figure size 640x480 with 1 Axes>",
            "image/png": "[encoded data removed]"
          },
          "metadata": {}
        }
      ]
    },
    {
      "cell_type": "code",
      "source": "df['reading score'].dropna()",
      "metadata": {
        "trusted": true
      },
      "execution_count": 44,
      "outputs": [
        {
          "execution_count": 44,
          "output_type": "execute_result",
          "data": {
            "text/plain": "0      72\n1      na\n2      95\n4      78\n5      83\n       ..\n995    99\n996    55\n997    71\n998    78\n999    86\nName: reading score, Length: 999, dtype: object"
          },
          "metadata": {}
        }
      ]
    },
    {
      "cell_type": "code",
      "source": "df['reading score'].replace('na',0)",
      "metadata": {
        "trusted": true
      },
      "execution_count": 45,
      "outputs": [
        {
          "execution_count": 45,
          "output_type": "execute_result",
          "data": {
            "text/plain": "0        72\n1         0\n2        95\n3       NaN\n4        78\n       ... \n2235    NaN\n2236    NaN\n2237    NaN\n2238    NaN\n2239    NaN\nName: reading score, Length: 2240, dtype: object"
          },
          "metadata": {}
        }
      ]
    },
    {
      "cell_type": "code",
      "source": "df['reading score']=pd.to_numeric(df['reading score'])",
      "metadata": {
        "tags": [],
        "trusted": true
      },
      "execution_count": null,
      "outputs": [
        {
          "ename": "<class 'NameError'>",
          "evalue": "name 'df' is not defined",
          "traceback": [
            "\u001b[0;31m---------------------------------------------------------------------------\u001b[0m",
            "\u001b[0;31mNameError\u001b[0m                                 Traceback (most recent call last)",
            "Cell \u001b[0;32mIn[1], line 1\u001b[0m\n\u001b[0;32m----> 1\u001b[0m \u001b[43mdf\u001b[49m\u001b[38;5;241m.\u001b[39mdropna(axis\u001b[38;5;241m=\u001b[39m\u001b[38;5;241m0\u001b[39m)\n",
            "\u001b[0;31mNameError\u001b[0m: name 'df' is not defined"
          ],
          "output_type": "error"
        }
      ]
    },
    {
      "cell_type": "code",
      "source": "",
      "metadata": {},
      "execution_count": null,
      "outputs": []
    }
  ]
}